{
 "cells": [
  {
   "cell_type": "markdown",
   "id": "8457f123",
   "metadata": {},
   "source": [
    "#### Importing libraries"
   ]
  },
  {
   "cell_type": "code",
   "execution_count": 1,
   "id": "dc1b1791",
   "metadata": {},
   "outputs": [],
   "source": [
    "import pandas as pd\n",
    "import seaborn as sns\n",
    "import matplotlib.pyplot as plt\n",
    "from sklearn.model_selection import train_test_split\n",
    "from sklearn.pipeline import Pipeline\n",
    "from sklearn.feature_extraction.text import TfidfVectorizer\n",
    "from sklearn.naive_bayes import MultinomialNB\n",
    "from sklearn.metrics import classification_report, accuracy_score, precision_score, recall_score, f1_score, confusion_matrix"
   ]
  },
  {
   "cell_type": "markdown",
   "id": "6ef8506d",
   "metadata": {},
   "source": [
    "#### Loading dataset"
   ]
  },
  {
   "cell_type": "code",
   "execution_count": 2,
   "id": "8f8da28f",
   "metadata": {
    "scrolled": true
   },
   "outputs": [
    {
     "data": {
      "text/html": [
       "<div>\n",
       "<style scoped>\n",
       "    .dataframe tbody tr th:only-of-type {\n",
       "        vertical-align: middle;\n",
       "    }\n",
       "\n",
       "    .dataframe tbody tr th {\n",
       "        vertical-align: top;\n",
       "    }\n",
       "\n",
       "    .dataframe thead th {\n",
       "        text-align: right;\n",
       "    }\n",
       "</style>\n",
       "<table border=\"1\" class=\"dataframe\">\n",
       "  <thead>\n",
       "    <tr style=\"text-align: right;\">\n",
       "      <th></th>\n",
       "      <th>movie_title</th>\n",
       "      <th>directors</th>\n",
       "      <th>production_company</th>\n",
       "      <th>critic_name</th>\n",
       "      <th>review_content</th>\n",
       "      <th>review_type</th>\n",
       "      <th>cleaned_reviews</th>\n",
       "      <th>POS_tagged</th>\n",
       "      <th>Lemma</th>\n",
       "      <th>Subjectivity</th>\n",
       "      <th>Polarity</th>\n",
       "      <th>textblob_analysis</th>\n",
       "    </tr>\n",
       "  </thead>\n",
       "  <tbody>\n",
       "    <tr>\n",
       "      <th>0</th>\n",
       "      <td>Percy Jackson &amp; the Olympians: The Lightning T...</td>\n",
       "      <td>Chris Columbus</td>\n",
       "      <td>20th Century Fox</td>\n",
       "      <td>Andrew L. Urban</td>\n",
       "      <td>A fantasy adventure that fuses Greek mythology...</td>\n",
       "      <td>Positive</td>\n",
       "      <td>A fantasy adventure that fuses Greek mythology...</td>\n",
       "      <td>[('fantasy', 'a'), ('adventure', 'n'), ('fuses...</td>\n",
       "      <td>fantasy adventure fuse Greek mythology conte...</td>\n",
       "      <td>0.041667</td>\n",
       "      <td>0.041667</td>\n",
       "      <td>Positive</td>\n",
       "    </tr>\n",
       "    <tr>\n",
       "      <th>1</th>\n",
       "      <td>Percy Jackson &amp; the Olympians: The Lightning T...</td>\n",
       "      <td>Chris Columbus</td>\n",
       "      <td>20th Century Fox</td>\n",
       "      <td>Louise Keller</td>\n",
       "      <td>Uma Thurman as Medusa, the gorgon with a coiff...</td>\n",
       "      <td>Positive</td>\n",
       "      <td>Uma Thurman as Medusa the gorgon with a coiffu...</td>\n",
       "      <td>[('Uma', 'n'), ('Thurman', 'n'), ('Medusa', 'n...</td>\n",
       "      <td>Uma Thurman Medusa gorgon coiffure writhe sn...</td>\n",
       "      <td>1.000000</td>\n",
       "      <td>0.700000</td>\n",
       "      <td>Positive</td>\n",
       "    </tr>\n",
       "    <tr>\n",
       "      <th>2</th>\n",
       "      <td>Percy Jackson &amp; the Olympians: The Lightning T...</td>\n",
       "      <td>Chris Columbus</td>\n",
       "      <td>20th Century Fox</td>\n",
       "      <td>NaN</td>\n",
       "      <td>With a top-notch cast and dazzling special eff...</td>\n",
       "      <td>Positive</td>\n",
       "      <td>With a top notch cast and dazzling special eff...</td>\n",
       "      <td>[('top', 'a'), ('notch', 'n'), ('cast', 'n'), ...</td>\n",
       "      <td>top notch cast dazzle special effect tide te...</td>\n",
       "      <td>0.267857</td>\n",
       "      <td>0.214286</td>\n",
       "      <td>Positive</td>\n",
       "    </tr>\n",
       "    <tr>\n",
       "      <th>3</th>\n",
       "      <td>Percy Jackson &amp; the Olympians: The Lightning T...</td>\n",
       "      <td>Chris Columbus</td>\n",
       "      <td>20th Century Fox</td>\n",
       "      <td>Ben McEachen</td>\n",
       "      <td>Whether audiences will get behind The Lightnin...</td>\n",
       "      <td>Positive</td>\n",
       "      <td>Whether audiences will get behind The Lightnin...</td>\n",
       "      <td>[('Whether', 'n'), ('audiences', 'n'), ('get',...</td>\n",
       "      <td>Whether audience get behind Lightning Thief ...</td>\n",
       "      <td>0.470887</td>\n",
       "      <td>0.049242</td>\n",
       "      <td>Positive</td>\n",
       "    </tr>\n",
       "    <tr>\n",
       "      <th>4</th>\n",
       "      <td>Percy Jackson &amp; the Olympians: The Lightning T...</td>\n",
       "      <td>Chris Columbus</td>\n",
       "      <td>20th Century Fox</td>\n",
       "      <td>Bill Goodykoontz</td>\n",
       "      <td>Percy Jackson isn't a great movie, but it's a ...</td>\n",
       "      <td>Positive</td>\n",
       "      <td>Percy Jackson isn t a great movie but it s a g...</td>\n",
       "      <td>[('Percy', 'n'), ('Jackson', 'n'), ('great', '...</td>\n",
       "      <td>Percy Jackson great movie good one trot kern...</td>\n",
       "      <td>0.462500</td>\n",
       "      <td>0.500000</td>\n",
       "      <td>Positive</td>\n",
       "    </tr>\n",
       "    <tr>\n",
       "      <th>...</th>\n",
       "      <td>...</td>\n",
       "      <td>...</td>\n",
       "      <td>...</td>\n",
       "      <td>...</td>\n",
       "      <td>...</td>\n",
       "      <td>...</td>\n",
       "      <td>...</td>\n",
       "      <td>...</td>\n",
       "      <td>...</td>\n",
       "      <td>...</td>\n",
       "      <td>...</td>\n",
       "      <td>...</td>\n",
       "    </tr>\n",
       "    <tr>\n",
       "      <th>735918</th>\n",
       "      <td>Zulu</td>\n",
       "      <td>Cy Endfield, Cyril Endfield</td>\n",
       "      <td>Paramount Pictures</td>\n",
       "      <td>NaN</td>\n",
       "      <td>As a spectacular war film with a powerful mora...</td>\n",
       "      <td>Positive</td>\n",
       "      <td>As a spectacular war film with a powerful mora...</td>\n",
       "      <td>[('spectacular', 'a'), ('war', 'n'), ('film', ...</td>\n",
       "      <td>spectacular war film powerful moral dimension</td>\n",
       "      <td>0.716667</td>\n",
       "      <td>0.300000</td>\n",
       "      <td>Positive</td>\n",
       "    </tr>\n",
       "    <tr>\n",
       "      <th>735919</th>\n",
       "      <td>Zulu</td>\n",
       "      <td>Cy Endfield, Cyril Endfield</td>\n",
       "      <td>Paramount Pictures</td>\n",
       "      <td>Isabel Quigly</td>\n",
       "      <td>The tension mounts, breaks, mounts, seems unbe...</td>\n",
       "      <td>Positive</td>\n",
       "      <td>The tension mounts breaks mounts seems unbeara...</td>\n",
       "      <td>[('tension', 'n'), ('mounts', 'n'), ('breaks',...</td>\n",
       "      <td>tension mount breaks mount seem unbearable b...</td>\n",
       "      <td>0.543651</td>\n",
       "      <td>0.222222</td>\n",
       "      <td>Positive</td>\n",
       "    </tr>\n",
       "    <tr>\n",
       "      <th>735920</th>\n",
       "      <td>Zulu</td>\n",
       "      <td>Cy Endfield, Cyril Endfield</td>\n",
       "      <td>Paramount Pictures</td>\n",
       "      <td>Joan Didion</td>\n",
       "      <td>A rousing reconstruction of the 1879 Battle of...</td>\n",
       "      <td>Positive</td>\n",
       "      <td>A rousing reconstruction of the Battle of Rork...</td>\n",
       "      <td>[('rousing', 'v'), ('reconstruction', 'n'), ('...</td>\n",
       "      <td>rouse reconstruction Battle Rorke Drift</td>\n",
       "      <td>0.000000</td>\n",
       "      <td>0.000000</td>\n",
       "      <td>Neutral</td>\n",
       "    </tr>\n",
       "    <tr>\n",
       "      <th>735921</th>\n",
       "      <td>Zulu Dawn</td>\n",
       "      <td>Douglas Hickox</td>\n",
       "      <td>Tango Entertainment</td>\n",
       "      <td>Ken Hanke</td>\n",
       "      <td>Seen today, it's not only a startling indictme...</td>\n",
       "      <td>Positive</td>\n",
       "      <td>Seen today it s not only a startling indictmen...</td>\n",
       "      <td>[('Seen', 'a'), ('today', 'n'), ('startling', ...</td>\n",
       "      <td>Seen today startling indictment British impe...</td>\n",
       "      <td>0.416667</td>\n",
       "      <td>0.083333</td>\n",
       "      <td>Positive</td>\n",
       "    </tr>\n",
       "    <tr>\n",
       "      <th>735922</th>\n",
       "      <td>Zulu Dawn</td>\n",
       "      <td>Douglas Hickox</td>\n",
       "      <td>Tango Entertainment</td>\n",
       "      <td>Dennis Schwartz</td>\n",
       "      <td>A rousing visual spectacle that's a prequel of...</td>\n",
       "      <td>Positive</td>\n",
       "      <td>A rousing visual spectacle that s a prequel of...</td>\n",
       "      <td>[('rousing', 'v'), ('visual', 'a'), ('spectacl...</td>\n",
       "      <td>rouse visual spectacle prequel Cy Endfield d...</td>\n",
       "      <td>0.200000</td>\n",
       "      <td>0.050000</td>\n",
       "      <td>Positive</td>\n",
       "    </tr>\n",
       "  </tbody>\n",
       "</table>\n",
       "<p>735923 rows × 12 columns</p>\n",
       "</div>"
      ],
      "text/plain": [
       "                                              movie_title  \\\n",
       "0       Percy Jackson & the Olympians: The Lightning T...   \n",
       "1       Percy Jackson & the Olympians: The Lightning T...   \n",
       "2       Percy Jackson & the Olympians: The Lightning T...   \n",
       "3       Percy Jackson & the Olympians: The Lightning T...   \n",
       "4       Percy Jackson & the Olympians: The Lightning T...   \n",
       "...                                                   ...   \n",
       "735918                                               Zulu   \n",
       "735919                                               Zulu   \n",
       "735920                                               Zulu   \n",
       "735921                                          Zulu Dawn   \n",
       "735922                                          Zulu Dawn   \n",
       "\n",
       "                          directors   production_company       critic_name  \\\n",
       "0                    Chris Columbus     20th Century Fox   Andrew L. Urban   \n",
       "1                    Chris Columbus     20th Century Fox     Louise Keller   \n",
       "2                    Chris Columbus     20th Century Fox               NaN   \n",
       "3                    Chris Columbus     20th Century Fox      Ben McEachen   \n",
       "4                    Chris Columbus     20th Century Fox  Bill Goodykoontz   \n",
       "...                             ...                  ...               ...   \n",
       "735918  Cy Endfield, Cyril Endfield   Paramount Pictures               NaN   \n",
       "735919  Cy Endfield, Cyril Endfield   Paramount Pictures     Isabel Quigly   \n",
       "735920  Cy Endfield, Cyril Endfield   Paramount Pictures       Joan Didion   \n",
       "735921               Douglas Hickox  Tango Entertainment         Ken Hanke   \n",
       "735922               Douglas Hickox  Tango Entertainment   Dennis Schwartz   \n",
       "\n",
       "                                           review_content review_type  \\\n",
       "0       A fantasy adventure that fuses Greek mythology...    Positive   \n",
       "1       Uma Thurman as Medusa, the gorgon with a coiff...    Positive   \n",
       "2       With a top-notch cast and dazzling special eff...    Positive   \n",
       "3       Whether audiences will get behind The Lightnin...    Positive   \n",
       "4       Percy Jackson isn't a great movie, but it's a ...    Positive   \n",
       "...                                                   ...         ...   \n",
       "735918  As a spectacular war film with a powerful mora...    Positive   \n",
       "735919  The tension mounts, breaks, mounts, seems unbe...    Positive   \n",
       "735920  A rousing reconstruction of the 1879 Battle of...    Positive   \n",
       "735921  Seen today, it's not only a startling indictme...    Positive   \n",
       "735922  A rousing visual spectacle that's a prequel of...    Positive   \n",
       "\n",
       "                                          cleaned_reviews  \\\n",
       "0       A fantasy adventure that fuses Greek mythology...   \n",
       "1       Uma Thurman as Medusa the gorgon with a coiffu...   \n",
       "2       With a top notch cast and dazzling special eff...   \n",
       "3       Whether audiences will get behind The Lightnin...   \n",
       "4       Percy Jackson isn t a great movie but it s a g...   \n",
       "...                                                   ...   \n",
       "735918  As a spectacular war film with a powerful mora...   \n",
       "735919  The tension mounts breaks mounts seems unbeara...   \n",
       "735920  A rousing reconstruction of the Battle of Rork...   \n",
       "735921  Seen today it s not only a startling indictmen...   \n",
       "735922  A rousing visual spectacle that s a prequel of...   \n",
       "\n",
       "                                               POS_tagged  \\\n",
       "0       [('fantasy', 'a'), ('adventure', 'n'), ('fuses...   \n",
       "1       [('Uma', 'n'), ('Thurman', 'n'), ('Medusa', 'n...   \n",
       "2       [('top', 'a'), ('notch', 'n'), ('cast', 'n'), ...   \n",
       "3       [('Whether', 'n'), ('audiences', 'n'), ('get',...   \n",
       "4       [('Percy', 'n'), ('Jackson', 'n'), ('great', '...   \n",
       "...                                                   ...   \n",
       "735918  [('spectacular', 'a'), ('war', 'n'), ('film', ...   \n",
       "735919  [('tension', 'n'), ('mounts', 'n'), ('breaks',...   \n",
       "735920  [('rousing', 'v'), ('reconstruction', 'n'), ('...   \n",
       "735921  [('Seen', 'a'), ('today', 'n'), ('startling', ...   \n",
       "735922  [('rousing', 'v'), ('visual', 'a'), ('spectacl...   \n",
       "\n",
       "                                                    Lemma  Subjectivity  \\\n",
       "0         fantasy adventure fuse Greek mythology conte...      0.041667   \n",
       "1         Uma Thurman Medusa gorgon coiffure writhe sn...      1.000000   \n",
       "2         top notch cast dazzle special effect tide te...      0.267857   \n",
       "3         Whether audience get behind Lightning Thief ...      0.470887   \n",
       "4         Percy Jackson great movie good one trot kern...      0.462500   \n",
       "...                                                   ...           ...   \n",
       "735918      spectacular war film powerful moral dimension      0.716667   \n",
       "735919    tension mount breaks mount seem unbearable b...      0.543651   \n",
       "735920            rouse reconstruction Battle Rorke Drift      0.000000   \n",
       "735921    Seen today startling indictment British impe...      0.416667   \n",
       "735922    rouse visual spectacle prequel Cy Endfield d...      0.200000   \n",
       "\n",
       "        Polarity textblob_analysis  \n",
       "0       0.041667          Positive  \n",
       "1       0.700000          Positive  \n",
       "2       0.214286          Positive  \n",
       "3       0.049242          Positive  \n",
       "4       0.500000          Positive  \n",
       "...          ...               ...  \n",
       "735918  0.300000          Positive  \n",
       "735919  0.222222          Positive  \n",
       "735920  0.000000           Neutral  \n",
       "735921  0.083333          Positive  \n",
       "735922  0.050000          Positive  \n",
       "\n",
       "[735923 rows x 12 columns]"
      ]
     },
     "execution_count": 2,
     "metadata": {},
     "output_type": "execute_result"
    }
   ],
   "source": [
    "df_movies = pd.read_csv('rt_cleaned.csv')\n",
    "df_movies"
   ]
  },
  {
   "cell_type": "markdown",
   "id": "cf9ab380",
   "metadata": {},
   "source": [
    "#### Spliting dataset into data training and testing"
   ]
  },
  {
   "cell_type": "code",
   "execution_count": 3,
   "id": "2171b2cb",
   "metadata": {},
   "outputs": [],
   "source": [
    "X = df_movies['cleaned_reviews']\n",
    "y = df_movies['textblob_analysis']\n",
    "\n",
    "X_train, X_test, y_train, y_test = train_test_split(X, y, test_size=0.30, random_state=1, stratify=y)"
   ]
  },
  {
   "cell_type": "code",
   "execution_count": 4,
   "id": "b249de21",
   "metadata": {},
   "outputs": [
    {
     "data": {
      "text/plain": [
       "((515146,), (220777,), (515146,), (220777,))"
      ]
     },
     "execution_count": 4,
     "metadata": {},
     "output_type": "execute_result"
    }
   ],
   "source": [
    "X_train.shape, X_test.shape, y_train.shape, y_test.shape"
   ]
  },
  {
   "cell_type": "markdown",
   "id": "b9b8577d",
   "metadata": {},
   "source": [
    "#### Checking for stratified split"
   ]
  },
  {
   "cell_type": "code",
   "execution_count": 5,
   "id": "202e3f8c",
   "metadata": {
    "scrolled": true
   },
   "outputs": [
    {
     "name": "stdout",
     "output_type": "stream",
     "text": [
      "Positive    293925\n",
      "Negative    167813\n",
      "Neutral      53408\n",
      "Name: textblob_analysis, dtype: int64\n",
      "Positive    125968\n",
      "Negative     71920\n",
      "Neutral      22889\n",
      "Name: textblob_analysis, dtype: int64\n"
     ]
    }
   ],
   "source": [
    "print(y_train.value_counts())\n",
    "print(y_test.value_counts())"
   ]
  },
  {
   "cell_type": "code",
   "execution_count": 6,
   "id": "2d1813d3",
   "metadata": {},
   "outputs": [
    {
     "name": "stdout",
     "output_type": "stream",
     "text": [
      "Positive    0.570566\n",
      "Negative    0.325758\n",
      "Neutral     0.103675\n",
      "Name: textblob_analysis, dtype: float64\n",
      "Positive    0.570567\n",
      "Negative    0.325759\n",
      "Neutral     0.103675\n",
      "Name: textblob_analysis, dtype: float64\n"
     ]
    }
   ],
   "source": [
    "print(y_train.value_counts(normalize=True))\n",
    "print(y_test.value_counts(normalize=True))"
   ]
  },
  {
   "cell_type": "markdown",
   "id": "a1c088a3",
   "metadata": {},
   "source": [
    "Stratify has maintained the split of neutral, positive & negative review in the dataset"
   ]
  },
  {
   "cell_type": "markdown",
   "id": "013ffc0a",
   "metadata": {},
   "source": [
    "#### Model training\n",
    "A Pipeline class was used to make the vectorizer => classifier easier to work with. PipeLine will both create a TF-IDF Vector out of the raw text data and fit a Naive Bayes classifier. TF-IDF indicates what the importance of the word is in order to understand the dataset. Then the pipeline will fit on the training data."
   ]
  },
  {
   "cell_type": "code",
   "execution_count": 7,
   "id": "cefa95e5",
   "metadata": {},
   "outputs": [
    {
     "data": {
      "text/html": [
       "<style>#sk-container-id-1 {color: black;background-color: white;}#sk-container-id-1 pre{padding: 0;}#sk-container-id-1 div.sk-toggleable {background-color: white;}#sk-container-id-1 label.sk-toggleable__label {cursor: pointer;display: block;width: 100%;margin-bottom: 0;padding: 0.3em;box-sizing: border-box;text-align: center;}#sk-container-id-1 label.sk-toggleable__label-arrow:before {content: \"▸\";float: left;margin-right: 0.25em;color: #696969;}#sk-container-id-1 label.sk-toggleable__label-arrow:hover:before {color: black;}#sk-container-id-1 div.sk-estimator:hover label.sk-toggleable__label-arrow:before {color: black;}#sk-container-id-1 div.sk-toggleable__content {max-height: 0;max-width: 0;overflow: hidden;text-align: left;background-color: #f0f8ff;}#sk-container-id-1 div.sk-toggleable__content pre {margin: 0.2em;color: black;border-radius: 0.25em;background-color: #f0f8ff;}#sk-container-id-1 input.sk-toggleable__control:checked~div.sk-toggleable__content {max-height: 200px;max-width: 100%;overflow: auto;}#sk-container-id-1 input.sk-toggleable__control:checked~label.sk-toggleable__label-arrow:before {content: \"▾\";}#sk-container-id-1 div.sk-estimator input.sk-toggleable__control:checked~label.sk-toggleable__label {background-color: #d4ebff;}#sk-container-id-1 div.sk-label input.sk-toggleable__control:checked~label.sk-toggleable__label {background-color: #d4ebff;}#sk-container-id-1 input.sk-hidden--visually {border: 0;clip: rect(1px 1px 1px 1px);clip: rect(1px, 1px, 1px, 1px);height: 1px;margin: -1px;overflow: hidden;padding: 0;position: absolute;width: 1px;}#sk-container-id-1 div.sk-estimator {font-family: monospace;background-color: #f0f8ff;border: 1px dotted black;border-radius: 0.25em;box-sizing: border-box;margin-bottom: 0.5em;}#sk-container-id-1 div.sk-estimator:hover {background-color: #d4ebff;}#sk-container-id-1 div.sk-parallel-item::after {content: \"\";width: 100%;border-bottom: 1px solid gray;flex-grow: 1;}#sk-container-id-1 div.sk-label:hover label.sk-toggleable__label {background-color: #d4ebff;}#sk-container-id-1 div.sk-serial::before {content: \"\";position: absolute;border-left: 1px solid gray;box-sizing: border-box;top: 0;bottom: 0;left: 50%;z-index: 0;}#sk-container-id-1 div.sk-serial {display: flex;flex-direction: column;align-items: center;background-color: white;padding-right: 0.2em;padding-left: 0.2em;position: relative;}#sk-container-id-1 div.sk-item {position: relative;z-index: 1;}#sk-container-id-1 div.sk-parallel {display: flex;align-items: stretch;justify-content: center;background-color: white;position: relative;}#sk-container-id-1 div.sk-item::before, #sk-container-id-1 div.sk-parallel-item::before {content: \"\";position: absolute;border-left: 1px solid gray;box-sizing: border-box;top: 0;bottom: 0;left: 50%;z-index: -1;}#sk-container-id-1 div.sk-parallel-item {display: flex;flex-direction: column;z-index: 1;position: relative;background-color: white;}#sk-container-id-1 div.sk-parallel-item:first-child::after {align-self: flex-end;width: 50%;}#sk-container-id-1 div.sk-parallel-item:last-child::after {align-self: flex-start;width: 50%;}#sk-container-id-1 div.sk-parallel-item:only-child::after {width: 0;}#sk-container-id-1 div.sk-dashed-wrapped {border: 1px dashed gray;margin: 0 0.4em 0.5em 0.4em;box-sizing: border-box;padding-bottom: 0.4em;background-color: white;}#sk-container-id-1 div.sk-label label {font-family: monospace;font-weight: bold;display: inline-block;line-height: 1.2em;}#sk-container-id-1 div.sk-label-container {text-align: center;}#sk-container-id-1 div.sk-container {/* jupyter's `normalize.less` sets `[hidden] { display: none; }` but bootstrap.min.css set `[hidden] { display: none !important; }` so we also need the `!important` here to be able to override the default hidden behavior on the sphinx rendered scikit-learn.org. See: https://github.com/scikit-learn/scikit-learn/issues/21755 */display: inline-block !important;position: relative;}#sk-container-id-1 div.sk-text-repr-fallback {display: none;}</style><div id=\"sk-container-id-1\" class=\"sk-top-container\"><div class=\"sk-text-repr-fallback\"><pre>Pipeline(steps=[(&#x27;vectorizer&#x27;, TfidfVectorizer()),\n",
       "                (&#x27;classifier&#x27;, MultinomialNB())])</pre><b>In a Jupyter environment, please rerun this cell to show the HTML representation or trust the notebook. <br />On GitHub, the HTML representation is unable to render, please try loading this page with nbviewer.org.</b></div><div class=\"sk-container\" hidden><div class=\"sk-item sk-dashed-wrapped\"><div class=\"sk-label-container\"><div class=\"sk-label sk-toggleable\"><input class=\"sk-toggleable__control sk-hidden--visually\" id=\"sk-estimator-id-1\" type=\"checkbox\" ><label for=\"sk-estimator-id-1\" class=\"sk-toggleable__label sk-toggleable__label-arrow\">Pipeline</label><div class=\"sk-toggleable__content\"><pre>Pipeline(steps=[(&#x27;vectorizer&#x27;, TfidfVectorizer()),\n",
       "                (&#x27;classifier&#x27;, MultinomialNB())])</pre></div></div></div><div class=\"sk-serial\"><div class=\"sk-item\"><div class=\"sk-estimator sk-toggleable\"><input class=\"sk-toggleable__control sk-hidden--visually\" id=\"sk-estimator-id-2\" type=\"checkbox\" ><label for=\"sk-estimator-id-2\" class=\"sk-toggleable__label sk-toggleable__label-arrow\">TfidfVectorizer</label><div class=\"sk-toggleable__content\"><pre>TfidfVectorizer()</pre></div></div></div><div class=\"sk-item\"><div class=\"sk-estimator sk-toggleable\"><input class=\"sk-toggleable__control sk-hidden--visually\" id=\"sk-estimator-id-3\" type=\"checkbox\" ><label for=\"sk-estimator-id-3\" class=\"sk-toggleable__label sk-toggleable__label-arrow\">MultinomialNB</label><div class=\"sk-toggleable__content\"><pre>MultinomialNB()</pre></div></div></div></div></div></div></div>"
      ],
      "text/plain": [
       "Pipeline(steps=[('vectorizer', TfidfVectorizer()),\n",
       "                ('classifier', MultinomialNB())])"
      ]
     },
     "execution_count": 7,
     "metadata": {},
     "output_type": "execute_result"
    }
   ],
   "source": [
    "tfidf = TfidfVectorizer()\n",
    "mnb = MultinomialNB()\n",
    "\n",
    "model = Pipeline([('vectorizer',tfidf)\n",
    "                  ,('classifier',mnb)])\n",
    "\n",
    "model.fit(X_train, y_train)"
   ]
  },
  {
   "cell_type": "code",
   "execution_count": 8,
   "id": "c2a1efb6",
   "metadata": {},
   "outputs": [
    {
     "name": "stdout",
     "output_type": "stream",
     "text": [
      "Training Accuracy Score: 75.464%\n"
     ]
    }
   ],
   "source": [
    "y_pred_train = model.predict(X_train)\n",
    "print(f'Training Accuracy Score: {round(accuracy_score(y_train, y_pred_train)*100, 4)}%')"
   ]
  },
  {
   "cell_type": "markdown",
   "id": "f9a7117d",
   "metadata": {},
   "source": [
    "#### Model testing"
   ]
  },
  {
   "cell_type": "code",
   "execution_count": 9,
   "id": "b2b84ad8",
   "metadata": {},
   "outputs": [
    {
     "name": "stdout",
     "output_type": "stream",
     "text": [
      "Testing Accuracy Score: 73.5593%\n"
     ]
    }
   ],
   "source": [
    "y_pred_test = model.predict(X_test)\n",
    "print(f'Testing Accuracy Score: {round(accuracy_score(y_test, y_pred_test)*100, 4)}%')"
   ]
  },
  {
   "cell_type": "markdown",
   "id": "a2b2201d",
   "metadata": {},
   "source": [
    "#### Model evaluation"
   ]
  },
  {
   "cell_type": "markdown",
   "id": "e0171256",
   "metadata": {},
   "source": [
    "Classification report"
   ]
  },
  {
   "cell_type": "code",
   "execution_count": 10,
   "id": "ba91e0a5",
   "metadata": {},
   "outputs": [
    {
     "name": "stdout",
     "output_type": "stream",
     "text": [
      "Evaluation of MultinomialNB with train-test split:\n",
      "\n",
      "              precision    recall  f1-score   support\n",
      "\n",
      "    Negative       0.91      0.53      0.67     71920\n",
      "     Neutral       0.87      0.03      0.06     22889\n",
      "    Positive       0.69      0.98      0.81    125968\n",
      "\n",
      "    accuracy                           0.74    220777\n",
      "   macro avg       0.82      0.51      0.52    220777\n",
      "weighted avg       0.78      0.74      0.69    220777\n",
      "\n",
      "\n",
      "Accuracy :  0.735592928611223\n",
      "Precision :  0.7825594222762731\n",
      "Recall :  0.735592928611223\n",
      "F1-Score :  0.6885011644781492\n"
     ]
    }
   ],
   "source": [
    "print(\"Evaluation of MultinomialNB with train-test split:\")\n",
    "print()\n",
    "print(classification_report(y_test, y_pred_test))\n",
    "print()\n",
    "print(\"Accuracy : \", accuracy_score(y_test, y_pred_test))\n",
    "print(\"Precision : \", precision_score(y_test, y_pred_test, average = 'weighted'))\n",
    "print(\"Recall : \", recall_score(y_test, y_pred_test, average = 'weighted'))\n",
    "print(\"F1-Score : \", f1_score(y_test, y_pred_test, average = 'weighted'))"
   ]
  },
  {
   "cell_type": "markdown",
   "id": "c8717082",
   "metadata": {},
   "source": [
    "Confusion matrix"
   ]
  },
  {
   "cell_type": "code",
   "execution_count": 11,
   "id": "b8db027c",
   "metadata": {},
   "outputs": [
    {
     "data": {
      "image/png": "[encoded data removed]",
      "text/plain": [
       "<Figure size 640x480 with 2 Axes>"
      ]
     },
     "metadata": {},
     "output_type": "display_data"
    }
   ],
   "source": [
    "cm = confusion_matrix(y_test, y_pred_test)\n",
    "cm_matrix = pd.DataFrame(data=cm, columns=['True Negative', 'True Neutral', 'True Positive'], \n",
    "                        index=['Predicted Negative', 'Predicted Neutral', 'Predicted Positive'])\n",
    "sns.heatmap(cm_matrix, annot=True, fmt='d', cmap='YlGnBu')\n",
    "plt.title(\"Confusion Matrix\")\n",
    "plt.xlabel(\"Predicted Value\")\n",
    "plt.ylabel(\"True Value\")\n",
    "plt.show()"
   ]
  }
 ],
 "metadata": {
  "kernelspec": {
   "display_name": "Python 3 (ipykernel)",
   "language": "python",
   "name": "python3"
  },
  "language_info": {
   "codemirror_mode": {
    "name": "ipython",
    "version": 3
   },
   "file_extension": ".py",
   "mimetype": "text/x-python",
   "name": "python",
   "nbconvert_exporter": "python",
   "pygments_lexer": "ipython3",
   "version": "3.8.8"
  }
 },
 "nbformat": 4,
 "nbformat_minor": 5
}
