{
 "cells": [
  {
   "cell_type": "markdown",
   "id": "49bd4fec",
   "metadata": {},
   "source": [
    "# Model Training 3 - Support Vector Machine     \n"
   ]
  },
  {
   "cell_type": "markdown",
   "id": "750f0277",
   "metadata": {},
   "source": [
    "##### Step 1 : Import Cleaned data"
   ]
  },
  {
   "cell_type": "code",
   "execution_count": 1,
   "id": "6a05a2cd",
   "metadata": {},
   "outputs": [
    {
     "data": {
      "text/html": [
       "<div>\n",
       "<style scoped>\n",
       "    .dataframe tbody tr th:only-of-type {\n",
       "        vertical-align: middle;\n",
       "    }\n",
       "\n",
       "    .dataframe tbody tr th {\n",
       "        vertical-align: top;\n",
       "    }\n",
       "\n",
       "    .dataframe thead th {\n",
       "        text-align: right;\n",
       "    }\n",
       "</style>\n",
       "<table border=\"1\" class=\"dataframe\">\n",
       "  <thead>\n",
       "    <tr style=\"text-align: right;\">\n",
       "      <th></th>\n",
       "      <th>movie_title</th>\n",
       "      <th>directors</th>\n",
       "      <th>production_company</th>\n",
       "      <th>critic_name</th>\n",
       "      <th>review_content</th>\n",
       "      <th>review_type</th>\n",
       "      <th>cleaned_reviews</th>\n",
       "      <th>POS_tagged</th>\n",
       "      <th>Lemma</th>\n",
       "      <th>Subjectivity</th>\n",
       "      <th>Polarity</th>\n",
       "      <th>textblob_analysis</th>\n",
       "    </tr>\n",
       "  </thead>\n",
       "  <tbody>\n",
       "    <tr>\n",
       "      <th>0</th>\n",
       "      <td>Percy Jackson &amp; the Olympians: The Lightning T...</td>\n",
       "      <td>Chris Columbus</td>\n",
       "      <td>20th Century Fox</td>\n",
       "      <td>Andrew L. Urban</td>\n",
       "      <td>A fantasy adventure that fuses Greek mythology...</td>\n",
       "      <td>Positive</td>\n",
       "      <td>A fantasy adventure that fuses Greek mythology...</td>\n",
       "      <td>[('fantasy', 'a'), ('adventure', 'n'), ('fuses...</td>\n",
       "      <td>fantasy adventure fuse Greek mythology conte...</td>\n",
       "      <td>0.041667</td>\n",
       "      <td>0.041667</td>\n",
       "      <td>Positive</td>\n",
       "    </tr>\n",
       "    <tr>\n",
       "      <th>1</th>\n",
       "      <td>Percy Jackson &amp; the Olympians: The Lightning T...</td>\n",
       "      <td>Chris Columbus</td>\n",
       "      <td>20th Century Fox</td>\n",
       "      <td>Louise Keller</td>\n",
       "      <td>Uma Thurman as Medusa, the gorgon with a coiff...</td>\n",
       "      <td>Positive</td>\n",
       "      <td>Uma Thurman as Medusa the gorgon with a coiffu...</td>\n",
       "      <td>[('Uma', 'n'), ('Thurman', 'n'), ('Medusa', 'n...</td>\n",
       "      <td>Uma Thurman Medusa gorgon coiffure writhe sn...</td>\n",
       "      <td>1.000000</td>\n",
       "      <td>0.700000</td>\n",
       "      <td>Positive</td>\n",
       "    </tr>\n",
       "    <tr>\n",
       "      <th>2</th>\n",
       "      <td>Percy Jackson &amp; the Olympians: The Lightning T...</td>\n",
       "      <td>Chris Columbus</td>\n",
       "      <td>20th Century Fox</td>\n",
       "      <td>NaN</td>\n",
       "      <td>With a top-notch cast and dazzling special eff...</td>\n",
       "      <td>Positive</td>\n",
       "      <td>With a top notch cast and dazzling special eff...</td>\n",
       "      <td>[('top', 'a'), ('notch', 'n'), ('cast', 'n'), ...</td>\n",
       "      <td>top notch cast dazzle special effect tide te...</td>\n",
       "      <td>0.267857</td>\n",
       "      <td>0.214286</td>\n",
       "      <td>Positive</td>\n",
       "    </tr>\n",
       "    <tr>\n",
       "      <th>3</th>\n",
       "      <td>Percy Jackson &amp; the Olympians: The Lightning T...</td>\n",
       "      <td>Chris Columbus</td>\n",
       "      <td>20th Century Fox</td>\n",
       "      <td>Ben McEachen</td>\n",
       "      <td>Whether audiences will get behind The Lightnin...</td>\n",
       "      <td>Positive</td>\n",
       "      <td>Whether audiences will get behind The Lightnin...</td>\n",
       "      <td>[('Whether', 'n'), ('audiences', 'n'), ('get',...</td>\n",
       "      <td>Whether audience get behind Lightning Thief ...</td>\n",
       "      <td>0.470887</td>\n",
       "      <td>0.049242</td>\n",
       "      <td>Positive</td>\n",
       "    </tr>\n",
       "    <tr>\n",
       "      <th>4</th>\n",
       "      <td>Percy Jackson &amp; the Olympians: The Lightning T...</td>\n",
       "      <td>Chris Columbus</td>\n",
       "      <td>20th Century Fox</td>\n",
       "      <td>Bill Goodykoontz</td>\n",
       "      <td>Percy Jackson isn't a great movie, but it's a ...</td>\n",
       "      <td>Positive</td>\n",
       "      <td>Percy Jackson isn t a great movie but it s a g...</td>\n",
       "      <td>[('Percy', 'n'), ('Jackson', 'n'), ('great', '...</td>\n",
       "      <td>Percy Jackson great movie good one trot kern...</td>\n",
       "      <td>0.462500</td>\n",
       "      <td>0.500000</td>\n",
       "      <td>Positive</td>\n",
       "    </tr>\n",
       "  </tbody>\n",
       "</table>\n",
       "</div>"
      ],
      "text/plain": [
       "                                         movie_title       directors  \\\n",
       "0  Percy Jackson & the Olympians: The Lightning T...  Chris Columbus   \n",
       "1  Percy Jackson & the Olympians: The Lightning T...  Chris Columbus   \n",
       "2  Percy Jackson & the Olympians: The Lightning T...  Chris Columbus   \n",
       "3  Percy Jackson & the Olympians: The Lightning T...  Chris Columbus   \n",
       "4  Percy Jackson & the Olympians: The Lightning T...  Chris Columbus   \n",
       "\n",
       "  production_company       critic_name  \\\n",
       "0   20th Century Fox   Andrew L. Urban   \n",
       "1   20th Century Fox     Louise Keller   \n",
       "2   20th Century Fox               NaN   \n",
       "3   20th Century Fox      Ben McEachen   \n",
       "4   20th Century Fox  Bill Goodykoontz   \n",
       "\n",
       "                                      review_content review_type  \\\n",
       "0  A fantasy adventure that fuses Greek mythology...    Positive   \n",
       "1  Uma Thurman as Medusa, the gorgon with a coiff...    Positive   \n",
       "2  With a top-notch cast and dazzling special eff...    Positive   \n",
       "3  Whether audiences will get behind The Lightnin...    Positive   \n",
       "4  Percy Jackson isn't a great movie, but it's a ...    Positive   \n",
       "\n",
       "                                     cleaned_reviews  \\\n",
       "0  A fantasy adventure that fuses Greek mythology...   \n",
       "1  Uma Thurman as Medusa the gorgon with a coiffu...   \n",
       "2  With a top notch cast and dazzling special eff...   \n",
       "3  Whether audiences will get behind The Lightnin...   \n",
       "4  Percy Jackson isn t a great movie but it s a g...   \n",
       "\n",
       "                                          POS_tagged  \\\n",
       "0  [('fantasy', 'a'), ('adventure', 'n'), ('fuses...   \n",
       "1  [('Uma', 'n'), ('Thurman', 'n'), ('Medusa', 'n...   \n",
       "2  [('top', 'a'), ('notch', 'n'), ('cast', 'n'), ...   \n",
       "3  [('Whether', 'n'), ('audiences', 'n'), ('get',...   \n",
       "4  [('Percy', 'n'), ('Jackson', 'n'), ('great', '...   \n",
       "\n",
       "                                               Lemma  Subjectivity  Polarity  \\\n",
       "0    fantasy adventure fuse Greek mythology conte...      0.041667  0.041667   \n",
       "1    Uma Thurman Medusa gorgon coiffure writhe sn...      1.000000  0.700000   \n",
       "2    top notch cast dazzle special effect tide te...      0.267857  0.214286   \n",
       "3    Whether audience get behind Lightning Thief ...      0.470887  0.049242   \n",
       "4    Percy Jackson great movie good one trot kern...      0.462500  0.500000   \n",
       "\n",
       "  textblob_analysis  \n",
       "0          Positive  \n",
       "1          Positive  \n",
       "2          Positive  \n",
       "3          Positive  \n",
       "4          Positive  "
      ]
     },
     "execution_count": 1,
     "metadata": {},
     "output_type": "execute_result"
    }
   ],
   "source": [
    "import pandas as pd\n",
    "df_movies=pd.read_csv('rt_cleaned.csv')\n",
    "df_movies.head()"
   ]
  },
  {
   "cell_type": "markdown",
   "id": "142a9ded",
   "metadata": {},
   "source": [
    "##### Step 2: \n",
    "#####              a) Cleaned review and textblob_analysis column is selected \n",
    "#####              b) Colum textblob)analysis is renamed to sentiment         "
   ]
  },
  {
   "cell_type": "code",
   "execution_count": 2,
   "id": "c8827b67",
   "metadata": {},
   "outputs": [
    {
     "data": {
      "text/html": [
       "<div>\n",
       "<style scoped>\n",
       "    .dataframe tbody tr th:only-of-type {\n",
       "        vertical-align: middle;\n",
       "    }\n",
       "\n",
       "    .dataframe tbody tr th {\n",
       "        vertical-align: top;\n",
       "    }\n",
       "\n",
       "    .dataframe thead th {\n",
       "        text-align: right;\n",
       "    }\n",
       "</style>\n",
       "<table border=\"1\" class=\"dataframe\">\n",
       "  <thead>\n",
       "    <tr style=\"text-align: right;\">\n",
       "      <th></th>\n",
       "      <th>cleaned_reviews</th>\n",
       "      <th>textblob_analysis</th>\n",
       "    </tr>\n",
       "  </thead>\n",
       "  <tbody>\n",
       "    <tr>\n",
       "      <th>0</th>\n",
       "      <td>A fantasy adventure that fuses Greek mythology...</td>\n",
       "      <td>Positive</td>\n",
       "    </tr>\n",
       "    <tr>\n",
       "      <th>1</th>\n",
       "      <td>Uma Thurman as Medusa the gorgon with a coiffu...</td>\n",
       "      <td>Positive</td>\n",
       "    </tr>\n",
       "    <tr>\n",
       "      <th>2</th>\n",
       "      <td>With a top notch cast and dazzling special eff...</td>\n",
       "      <td>Positive</td>\n",
       "    </tr>\n",
       "    <tr>\n",
       "      <th>3</th>\n",
       "      <td>Whether audiences will get behind The Lightnin...</td>\n",
       "      <td>Positive</td>\n",
       "    </tr>\n",
       "    <tr>\n",
       "      <th>4</th>\n",
       "      <td>Percy Jackson isn t a great movie but it s a g...</td>\n",
       "      <td>Positive</td>\n",
       "    </tr>\n",
       "  </tbody>\n",
       "</table>\n",
       "</div>"
      ],
      "text/plain": [
       "                                     cleaned_reviews textblob_analysis\n",
       "0  A fantasy adventure that fuses Greek mythology...          Positive\n",
       "1  Uma Thurman as Medusa the gorgon with a coiffu...          Positive\n",
       "2  With a top notch cast and dazzling special eff...          Positive\n",
       "3  Whether audiences will get behind The Lightnin...          Positive\n",
       "4  Percy Jackson isn t a great movie but it s a g...          Positive"
      ]
     },
     "execution_count": 2,
     "metadata": {},
     "output_type": "execute_result"
    }
   ],
   "source": [
    "df=pd.concat([df_movies.cleaned_reviews,df_movies.textblob_analysis],axis=1)\n",
    "df.dropna(axis=0,inplace=True)\n",
    "df.head()"
   ]
  },
  {
   "cell_type": "code",
   "execution_count": 3,
   "id": "7b40ac53",
   "metadata": {},
   "outputs": [
    {
     "data": {
      "text/html": [
       "<div>\n",
       "<style scoped>\n",
       "    .dataframe tbody tr th:only-of-type {\n",
       "        vertical-align: middle;\n",
       "    }\n",
       "\n",
       "    .dataframe tbody tr th {\n",
       "        vertical-align: top;\n",
       "    }\n",
       "\n",
       "    .dataframe thead th {\n",
       "        text-align: right;\n",
       "    }\n",
       "</style>\n",
       "<table border=\"1\" class=\"dataframe\">\n",
       "  <thead>\n",
       "    <tr style=\"text-align: right;\">\n",
       "      <th></th>\n",
       "      <th>cleaned_reviews</th>\n",
       "      <th>sentiment</th>\n",
       "    </tr>\n",
       "  </thead>\n",
       "  <tbody>\n",
       "    <tr>\n",
       "      <th>0</th>\n",
       "      <td>A fantasy adventure that fuses Greek mythology...</td>\n",
       "      <td>Positive</td>\n",
       "    </tr>\n",
       "    <tr>\n",
       "      <th>1</th>\n",
       "      <td>Uma Thurman as Medusa the gorgon with a coiffu...</td>\n",
       "      <td>Positive</td>\n",
       "    </tr>\n",
       "    <tr>\n",
       "      <th>2</th>\n",
       "      <td>With a top notch cast and dazzling special eff...</td>\n",
       "      <td>Positive</td>\n",
       "    </tr>\n",
       "    <tr>\n",
       "      <th>3</th>\n",
       "      <td>Whether audiences will get behind The Lightnin...</td>\n",
       "      <td>Positive</td>\n",
       "    </tr>\n",
       "    <tr>\n",
       "      <th>4</th>\n",
       "      <td>Percy Jackson isn t a great movie but it s a g...</td>\n",
       "      <td>Positive</td>\n",
       "    </tr>\n",
       "  </tbody>\n",
       "</table>\n",
       "</div>"
      ],
      "text/plain": [
       "                                     cleaned_reviews sentiment\n",
       "0  A fantasy adventure that fuses Greek mythology...  Positive\n",
       "1  Uma Thurman as Medusa the gorgon with a coiffu...  Positive\n",
       "2  With a top notch cast and dazzling special eff...  Positive\n",
       "3  Whether audiences will get behind The Lightnin...  Positive\n",
       "4  Percy Jackson isn t a great movie but it s a g...  Positive"
      ]
     },
     "execution_count": 3,
     "metadata": {},
     "output_type": "execute_result"
    }
   ],
   "source": [
    "df=df.rename(columns={'textblob_analysis':'sentiment'})\n",
    "df.head()"
   ]
  },
  {
   "cell_type": "code",
   "execution_count": 4,
   "id": "577be92f",
   "metadata": {},
   "outputs": [
    {
     "data": {
      "text/plain": [
       "['Positive', 'Negative', 'Neutral']"
      ]
     },
     "execution_count": 4,
     "metadata": {},
     "output_type": "execute_result"
    }
   ],
   "source": [
    "df.sentiment.unique().tolist()"
   ]
  },
  {
   "cell_type": "code",
   "execution_count": 5,
   "id": "70ed278e",
   "metadata": {},
   "outputs": [],
   "source": [
    "y,labels=pd.factorize(df.sentiment)"
   ]
  },
  {
   "cell_type": "markdown",
   "id": "b499e740",
   "metadata": {},
   "source": [
    "##### Step3:\n",
    "##### a) The number of data is obtained for each section\n",
    "##### b) Bar chart is plotted"
   ]
  },
  {
   "cell_type": "code",
   "execution_count": 6,
   "id": "ba59fab4",
   "metadata": {},
   "outputs": [
    {
     "data": {
      "text/plain": [
       "Positive    419893\n",
       "Negative    239733\n",
       "Neutral      76297\n",
       "Name: sentiment, dtype: int64"
      ]
     },
     "execution_count": 6,
     "metadata": {},
     "output_type": "execute_result"
    }
   ],
   "source": [
    "df.sentiment.value_counts()"
   ]
  },
  {
   "cell_type": "code",
   "execution_count": 7,
   "id": "a4d6210e",
   "metadata": {},
   "outputs": [],
   "source": [
    "import numpy as np\n",
    "import matplotlib.pyplot as plt\n",
    "import seaborn as sns\n"
   ]
  },
  {
   "cell_type": "code",
   "execution_count": 8,
   "id": "6db8ee30",
   "metadata": {},
   "outputs": [
    {
     "name": "stderr",
     "output_type": "stream",
     "text": [
      "D:\\Telegram Desktop\\anaconda\\lib\\site-packages\\seaborn\\_decorators.py:36: FutureWarning: Pass the following variables as keyword args: x, y. From version 0.12, the only valid positional argument will be `data`, and passing other arguments without an explicit keyword will result in an error or misinterpretation.\n",
      "  warnings.warn(\n"
     ]
    },
    {
     "data": {
      "text/plain": [
       "Text(0.5, 0, 'sentiment')"
      ]
     },
     "execution_count": 8,
     "metadata": {},
     "output_type": "execute_result"
    },
    {
     "data": {
      "image/png": "[encoded data removed]",
      "text/plain": [
       "<Figure size 1000x600 with 1 Axes>"
      ]
     },
     "metadata": {},
     "output_type": "display_data"
    }
   ],
   "source": [
    "count=df['sentiment'].value_counts()\n",
    "count=count.sort_index()\n",
    "fig = plt.figure(figsize=(10,6))\n",
    "ax=sns.barplot(count.index,count.values)\n",
    "plt.title(\"Ratings\",fontsize=20)\n",
    "plt.ylabel(\"cleaned_review\",fontsize=12)\n",
    "plt.xlabel('sentiment',fontsize=12)\n",
    "\n"
   ]
  },
  {
   "cell_type": "markdown",
   "id": "4fa48902",
   "metadata": {},
   "source": [
    "##### Step 4:\n",
    "##### The sentiment is tranform from string to number :-\n",
    "##### Positive=0, Negative=1, Neutral = 2"
   ]
  },
  {
   "cell_type": "code",
   "execution_count": 9,
   "id": "2f410e11",
   "metadata": {},
   "outputs": [
    {
     "data": {
      "text/html": [
       "<div>\n",
       "<style scoped>\n",
       "    .dataframe tbody tr th:only-of-type {\n",
       "        vertical-align: middle;\n",
       "    }\n",
       "\n",
       "    .dataframe tbody tr th {\n",
       "        vertical-align: top;\n",
       "    }\n",
       "\n",
       "    .dataframe thead th {\n",
       "        text-align: right;\n",
       "    }\n",
       "</style>\n",
       "<table border=\"1\" class=\"dataframe\">\n",
       "  <thead>\n",
       "    <tr style=\"text-align: right;\">\n",
       "      <th></th>\n",
       "      <th>cleaned_reviews</th>\n",
       "      <th>labels</th>\n",
       "    </tr>\n",
       "  </thead>\n",
       "  <tbody>\n",
       "    <tr>\n",
       "      <th>0</th>\n",
       "      <td>A fantasy adventure that fuses Greek mythology...</td>\n",
       "      <td>0</td>\n",
       "    </tr>\n",
       "    <tr>\n",
       "      <th>1</th>\n",
       "      <td>Uma Thurman as Medusa the gorgon with a coiffu...</td>\n",
       "      <td>0</td>\n",
       "    </tr>\n",
       "    <tr>\n",
       "      <th>2</th>\n",
       "      <td>With a top notch cast and dazzling special eff...</td>\n",
       "      <td>0</td>\n",
       "    </tr>\n",
       "    <tr>\n",
       "      <th>3</th>\n",
       "      <td>Whether audiences will get behind The Lightnin...</td>\n",
       "      <td>0</td>\n",
       "    </tr>\n",
       "    <tr>\n",
       "      <th>4</th>\n",
       "      <td>Percy Jackson isn t a great movie but it s a g...</td>\n",
       "      <td>0</td>\n",
       "    </tr>\n",
       "  </tbody>\n",
       "</table>\n",
       "</div>"
      ],
      "text/plain": [
       "                                     cleaned_reviews  labels\n",
       "0  A fantasy adventure that fuses Greek mythology...       0\n",
       "1  Uma Thurman as Medusa the gorgon with a coiffu...       0\n",
       "2  With a top notch cast and dazzling special eff...       0\n",
       "3  Whether audiences will get behind The Lightnin...       0\n",
       "4  Percy Jackson isn t a great movie but it s a g...       0"
      ]
     },
     "execution_count": 9,
     "metadata": {},
     "output_type": "execute_result"
    }
   ],
   "source": [
    "df_sentiment=df[df.sentiment!=3]\n",
    "pd.set_option('mode.chained_assignment',None)\n",
    "df_sentiment[\"labels\"]=df_sentiment[\"sentiment\"].apply=[0 if i==\"Positive\" else 1 if i==\"Negative\" else 2 for i in df.sentiment]\n",
    "df_sentiment=df_sentiment.drop(\"sentiment\",axis=1)\n",
    "df_sentiment.head()"
   ]
  },
  {
   "cell_type": "code",
   "execution_count": 10,
   "id": "591b4d33",
   "metadata": {},
   "outputs": [
    {
     "name": "stderr",
     "output_type": "stream",
     "text": [
      "D:\\Telegram Desktop\\anaconda\\lib\\site-packages\\seaborn\\_decorators.py:36: FutureWarning: Pass the following variables as keyword args: x, y. From version 0.12, the only valid positional argument will be `data`, and passing other arguments without an explicit keyword will result in an error or misinterpretation.\n",
      "  warnings.warn(\n"
     ]
    },
    {
     "data": {
      "text/plain": [
       "Text(0.5, 0, 'sentiment')"
      ]
     },
     "execution_count": 10,
     "metadata": {},
     "output_type": "execute_result"
    },
    {
     "data": {
      "image/png": "[encoded data removed]",
      "text/plain": [
       "<Figure size 600x600 with 1 Axes>"
      ]
     },
     "metadata": {},
     "output_type": "display_data"
    }
   ],
   "source": [
    "count_label=df_sentiment['labels'].value_counts()\n",
    "count_label=count_label.sort_index()\n",
    "fig = plt.figure(figsize=(6,6))\n",
    "ax=sns.barplot(count_label.index,count_label.values)\n",
    "plt.title(\"Class\",fontsize=20)\n",
    "plt.ylabel(\"number of views\",fontsize=12)\n",
    "plt.xlabel('sentiment',fontsize=12)"
   ]
  },
  {
   "cell_type": "markdown",
   "id": "91f746b4",
   "metadata": {},
   "source": [
    "##### Step 5:  Splitting test and train data"
   ]
  },
  {
   "cell_type": "code",
   "execution_count": 11,
   "id": "45188eee",
   "metadata": {},
   "outputs": [],
   "source": [
    "\n",
    "from sklearn.feature_extraction.text import CountVectorizer,TfidfVectorizer\n",
    "from sklearn.model_selection import train_test_split,StratifiedKFold,cross_val_score\n",
    "from sklearn.svm import SVC\n",
    "from sklearn.pipeline import make_pipeline,Pipeline\n",
    "from sklearn.metrics import make_scorer,accuracy_score,f1_score\n",
    "from sklearn.datasets import make_blobs\n",
    "df_sentiment=df_sentiment.sample(n=100000,replace=True) #SVM cannot compute large datasets\n",
    "#df_sentiment.sample(n=100000,replace=True)\n",
    "train,test=train_test_split(df_sentiment,test_size=0.3,random_state=1 )\n",
    "X_train=train['cleaned_reviews'].values\n",
    "X_test=test['cleaned_reviews'].values\n",
    "y_train=train['labels']\n",
    "y_test=test['labels']\n"
   ]
  },
  {
   "cell_type": "markdown",
   "id": "eba4e555",
   "metadata": {},
   "source": [
    "##### Step6: Tokenization "
   ]
  },
  {
   "cell_type": "code",
   "execution_count": 12,
   "id": "78735b15",
   "metadata": {},
   "outputs": [
    {
     "name": "stderr",
     "output_type": "stream",
     "text": [
      "[nltk_data] Downloading package stopwords to\n",
      "[nltk_data]     C:\\Users\\pc\\AppData\\Roaming\\nltk_data...\n",
      "[nltk_data]   Package stopwords is already up-to-date!\n"
     ]
    }
   ],
   "source": [
    "import nltk\n",
    "nltk.download('stopwords')\n",
    "import tokenize \n",
    "from nltk.stem import SnowballStemmer\n",
    "from nltk.corpus import stopwords"
   ]
  },
  {
   "cell_type": "code",
   "execution_count": 13,
   "id": "c8ed6239",
   "metadata": {},
   "outputs": [],
   "source": [
    "def tokenize(text):\n",
    "    token=TweetTokenizer()\n",
    "    return token.tokenize(text)\n",
    "\n",
    "def stem(doc):\n",
    "    return (stemmer.stem(w) for w in analyzer(doc))\n",
    "\n",
    "stopwords_eng=set(stopwords.words(\"english\"))\n",
    "\n",
    "vectorizer=CountVectorizer(analyzer='word',tokenizer=tokenize,lowercase=True,ngram_range=(1,1),stop_words=stopwords_eng)"
   ]
  },
  {
   "cell_type": "code",
   "execution_count": 14,
   "id": "61235908",
   "metadata": {},
   "outputs": [],
   "source": [
    "kfolds=StratifiedKFold(n_splits=5,shuffle=True,random_state=1)\n",
    "tfidfvectorizer=TfidfVectorizer()"
   ]
  },
  {
   "cell_type": "code",
   "execution_count": 15,
   "id": "a8835492",
   "metadata": {},
   "outputs": [
    {
     "data": {
      "text/plain": [
       "(100000, 2)"
      ]
     },
     "execution_count": 15,
     "metadata": {},
     "output_type": "execute_result"
    }
   ],
   "source": [
    "df_sentiment.shape"
   ]
  },
  {
   "cell_type": "code",
   "execution_count": 16,
   "id": "1d7fd7a5",
   "metadata": {},
   "outputs": [
    {
     "name": "stdout",
     "output_type": "stream",
     "text": [
      "<class 'list'>\n",
      "A slender honest study of a boy learning to be a man his own way \n"
     ]
    }
   ],
   "source": [
    "texts=df_sentiment.cleaned_reviews.tolist()\n",
    "\n",
    "print(type(texts))\n",
    "print(texts[0])"
   ]
  },
  {
   "cell_type": "code",
   "execution_count": 17,
   "id": "9f10a551",
   "metadata": {},
   "outputs": [
    {
     "name": "stdout",
     "output_type": "stream",
     "text": [
      "100000\n"
     ]
    }
   ],
   "source": [
    "print(len(texts))"
   ]
  },
  {
   "cell_type": "markdown",
   "id": "319e5442",
   "metadata": {},
   "source": [
    "##### Step7: Training by Vectorizing using TF-IDF and the Classifer using SVM "
   ]
  },
  {
   "cell_type": "code",
   "execution_count": 18,
   "id": "bea05ead",
   "metadata": {},
   "outputs": [],
   "source": [
    "X= tfidfvectorizer.fit_transform(df_sentiment['cleaned_reviews'].values.astype('U'))"
   ]
  },
  {
   "cell_type": "code",
   "execution_count": 19,
   "id": "2ae85b73",
   "metadata": {},
   "outputs": [
    {
     "data": {
      "text/plain": [
       "(100000, 51055)"
      ]
     },
     "execution_count": 19,
     "metadata": {},
     "output_type": "execute_result"
    }
   ],
   "source": [
    "X.shape\n"
   ]
  },
  {
   "cell_type": "code",
   "execution_count": 20,
   "id": "8d850311",
   "metadata": {},
   "outputs": [],
   "source": [
    "#print(X)"
   ]
  },
  {
   "cell_type": "code",
   "execution_count": 21,
   "id": "3f8b4b89",
   "metadata": {},
   "outputs": [
    {
     "data": {
      "text/plain": [
       "(735923,)"
      ]
     },
     "execution_count": 21,
     "metadata": {},
     "output_type": "execute_result"
    }
   ],
   "source": [
    "y.shape"
   ]
  },
  {
   "cell_type": "code",
   "execution_count": 22,
   "id": "814bfb9d",
   "metadata": {},
   "outputs": [
    {
     "name": "stdout",
     "output_type": "stream",
     "text": [
      "[0 0 0 ... 2 0 0]\n"
     ]
    }
   ],
   "source": [
    "print(y)"
   ]
  },
  {
   "cell_type": "code",
   "execution_count": 23,
   "id": "c7c98037",
   "metadata": {},
   "outputs": [
    {
     "data": {
      "text/html": [
       "<style>#sk-container-id-1 {color: black;background-color: white;}#sk-container-id-1 pre{padding: 0;}#sk-container-id-1 div.sk-toggleable {background-color: white;}#sk-container-id-1 label.sk-toggleable__label {cursor: pointer;display: block;width: 100%;margin-bottom: 0;padding: 0.3em;box-sizing: border-box;text-align: center;}#sk-container-id-1 label.sk-toggleable__label-arrow:before {content: \"▸\";float: left;margin-right: 0.25em;color: #696969;}#sk-container-id-1 label.sk-toggleable__label-arrow:hover:before {color: black;}#sk-container-id-1 div.sk-estimator:hover label.sk-toggleable__label-arrow:before {color: black;}#sk-container-id-1 div.sk-toggleable__content {max-height: 0;max-width: 0;overflow: hidden;text-align: left;background-color: #f0f8ff;}#sk-container-id-1 div.sk-toggleable__content pre {margin: 0.2em;color: black;border-radius: 0.25em;background-color: #f0f8ff;}#sk-container-id-1 input.sk-toggleable__control:checked~div.sk-toggleable__content {max-height: 200px;max-width: 100%;overflow: auto;}#sk-container-id-1 input.sk-toggleable__control:checked~label.sk-toggleable__label-arrow:before {content: \"▾\";}#sk-container-id-1 div.sk-estimator input.sk-toggleable__control:checked~label.sk-toggleable__label {background-color: #d4ebff;}#sk-container-id-1 div.sk-label input.sk-toggleable__control:checked~label.sk-toggleable__label {background-color: #d4ebff;}#sk-container-id-1 input.sk-hidden--visually {border: 0;clip: rect(1px 1px 1px 1px);clip: rect(1px, 1px, 1px, 1px);height: 1px;margin: -1px;overflow: hidden;padding: 0;position: absolute;width: 1px;}#sk-container-id-1 div.sk-estimator {font-family: monospace;background-color: #f0f8ff;border: 1px dotted black;border-radius: 0.25em;box-sizing: border-box;margin-bottom: 0.5em;}#sk-container-id-1 div.sk-estimator:hover {background-color: #d4ebff;}#sk-container-id-1 div.sk-parallel-item::after {content: \"\";width: 100%;border-bottom: 1px solid gray;flex-grow: 1;}#sk-container-id-1 div.sk-label:hover label.sk-toggleable__label {background-color: #d4ebff;}#sk-container-id-1 div.sk-serial::before {content: \"\";position: absolute;border-left: 1px solid gray;box-sizing: border-box;top: 0;bottom: 0;left: 50%;z-index: 0;}#sk-container-id-1 div.sk-serial {display: flex;flex-direction: column;align-items: center;background-color: white;padding-right: 0.2em;padding-left: 0.2em;position: relative;}#sk-container-id-1 div.sk-item {position: relative;z-index: 1;}#sk-container-id-1 div.sk-parallel {display: flex;align-items: stretch;justify-content: center;background-color: white;position: relative;}#sk-container-id-1 div.sk-item::before, #sk-container-id-1 div.sk-parallel-item::before {content: \"\";position: absolute;border-left: 1px solid gray;box-sizing: border-box;top: 0;bottom: 0;left: 50%;z-index: -1;}#sk-container-id-1 div.sk-parallel-item {display: flex;flex-direction: column;z-index: 1;position: relative;background-color: white;}#sk-container-id-1 div.sk-parallel-item:first-child::after {align-self: flex-end;width: 50%;}#sk-container-id-1 div.sk-parallel-item:last-child::after {align-self: flex-start;width: 50%;}#sk-container-id-1 div.sk-parallel-item:only-child::after {width: 0;}#sk-container-id-1 div.sk-dashed-wrapped {border: 1px dashed gray;margin: 0 0.4em 0.5em 0.4em;box-sizing: border-box;padding-bottom: 0.4em;background-color: white;}#sk-container-id-1 div.sk-label label {font-family: monospace;font-weight: bold;display: inline-block;line-height: 1.2em;}#sk-container-id-1 div.sk-label-container {text-align: center;}#sk-container-id-1 div.sk-container {/* jupyter's `normalize.less` sets `[hidden] { display: none; }` but bootstrap.min.css set `[hidden] { display: none !important; }` so we also need the `!important` here to be able to override the default hidden behavior on the sphinx rendered scikit-learn.org. See: https://github.com/scikit-learn/scikit-learn/issues/21755 */display: inline-block !important;position: relative;}#sk-container-id-1 div.sk-text-repr-fallback {display: none;}</style><div id=\"sk-container-id-1\" class=\"sk-top-container\"><div class=\"sk-text-repr-fallback\"><pre>SVC(C=1, gamma=0.001, kernel=&#x27;linear&#x27;)</pre><b>In a Jupyter environment, please rerun this cell to show the HTML representation or trust the notebook. <br />On GitHub, the HTML representation is unable to render, please try loading this page with nbviewer.org.</b></div><div class=\"sk-container\" hidden><div class=\"sk-item\"><div class=\"sk-estimator sk-toggleable\"><input class=\"sk-toggleable__control sk-hidden--visually\" id=\"sk-estimator-id-1\" type=\"checkbox\" checked><label for=\"sk-estimator-id-1\" class=\"sk-toggleable__label sk-toggleable__label-arrow\">SVC</label><div class=\"sk-toggleable__content\"><pre>SVC(C=1, gamma=0.001, kernel=&#x27;linear&#x27;)</pre></div></div></div></div></div>"
      ],
      "text/plain": [
       "SVC(C=1, gamma=0.001, kernel='linear')"
      ]
     },
     "execution_count": 23,
     "metadata": {},
     "output_type": "execute_result"
    }
   ],
   "source": [
    "svm=SVC(kernel='linear',C=1,gamma=0.001)\n",
    "X_train,X_test,y_train,y_test=train_test_split(X,df_sentiment['labels'])\n",
    "svm.fit(X_train,y_train)\n"
   ]
  },
  {
   "cell_type": "code",
   "execution_count": 24,
   "id": "0d63cbab",
   "metadata": {},
   "outputs": [
    {
     "name": "stdout",
     "output_type": "stream",
     "text": [
      "Score of test: 0.88368\n"
     ]
    }
   ],
   "source": [
    "print(\"Score of test: \"+ str(svm.score(X_test,y_test)))\n"
   ]
  },
  {
   "cell_type": "code",
   "execution_count": 25,
   "id": "a1b38de4",
   "metadata": {},
   "outputs": [],
   "source": [
    "from sklearn import svm\n",
    "clf = svm.SVC(kernel='linear',C=1,gamma=0.001) \n",
    "clf.fit(X_train, y_train)\n",
    "y_pred = clf.predict(X_test)\n"
   ]
  },
  {
   "cell_type": "markdown",
   "id": "a052c322",
   "metadata": {},
   "source": [
    "##### Step 8: Accuracy and classification report is obtained "
   ]
  },
  {
   "cell_type": "code",
   "execution_count": 26,
   "id": "26b55164",
   "metadata": {},
   "outputs": [
    {
     "name": "stdout",
     "output_type": "stream",
     "text": [
      "Accuracy: 0.88368\n",
      "Precision: 0.8819236471532284\n",
      "Recall: 0.88368\n"
     ]
    }
   ],
   "source": [
    "from sklearn import metrics\n",
    "print(\"Accuracy:\",metrics.accuracy_score(y_test, y_pred))\n",
    "print(\"Precision:\",metrics.precision_score(y_test, y_pred,average='weighted'))\n",
    "print(\"Recall:\",metrics.recall_score(y_test, y_pred,average='weighted'))\n"
   ]
  },
  {
   "cell_type": "code",
   "execution_count": 27,
   "id": "b2c6f877",
   "metadata": {},
   "outputs": [
    {
     "name": "stdout",
     "output_type": "stream",
     "text": [
      "              precision    recall  f1-score   support\n",
      "\n",
      "           0       0.89      0.94      0.92     14220\n",
      "           1       0.89      0.86      0.87      8190\n",
      "           2       0.82      0.64      0.71      2590\n",
      "\n",
      "    accuracy                           0.88     25000\n",
      "   macro avg       0.86      0.81      0.83     25000\n",
      "weighted avg       0.88      0.88      0.88     25000\n",
      "\n"
     ]
    }
   ],
   "source": [
    "from sklearn.metrics import classification_report, confusion_matrix\n",
    "print(classification_report(y_test, y_pred))"
   ]
  },
  {
   "cell_type": "code",
   "execution_count": 28,
   "id": "bc792033",
   "metadata": {},
   "outputs": [
    {
     "name": "stdout",
     "output_type": "stream",
     "text": [
      "[[13387   644   189]\n",
      " [  948  7059   183]\n",
      " [  691   253  1646]]\n"
     ]
    }
   ],
   "source": [
    "print(confusion_matrix(y_test, y_pred))"
   ]
  },
  {
   "cell_type": "markdown",
   "id": "829cbc43",
   "metadata": {},
   "source": [
    "##### Step 9: Visualization using confusion matrix"
   ]
  },
  {
   "cell_type": "code",
   "execution_count": 29,
   "id": "646348cb",
   "metadata": {},
   "outputs": [
    {
     "data": {
      "image/png": "[encoded data removed]",
      "text/plain": [
       "<Figure size 640x480 with 2 Axes>"
      ]
     },
     "metadata": {},
     "output_type": "display_data"
    }
   ],
   "source": [
    "conf_matrix=confusion_matrix(y_test, y_pred)\n",
    "conf_matrix = pd.DataFrame(data=conf_matrix, columns=['Actual Negative', 'Actual Neutral', 'Actual Positive'], \n",
    "                        index=['Predict Negative', 'Predict Neutral', 'Predict Positive'])\n",
    "sns.heatmap(conf_matrix, annot=True, fmt='d', cmap='OrRd')\n",
    "plt.show()"
   ]
  },
  {
   "cell_type": "code",
   "execution_count": null,
   "id": "7c2dda68",
   "metadata": {},
   "outputs": [],
   "source": [
    "from sklearn.svm import SVR\n",
    "regressor=SVR(kernel='linear')\n",
    "X_train,X_test,y_train,y_test=train_test_split(X,df_sentiment['labels'])\n",
    "regressor.fit(X_train,y_train)\n",
    "print(confusion_matrix(y_test, y_pred))"
   ]
  },
  {
   "cell_type": "code",
   "execution_count": null,
   "id": "05e0a4cf",
   "metadata": {},
   "outputs": [],
   "source": [
    "from sklearn import metrics\n",
    "print(\"Accuracy:\",metrics.accuracy_score(y_test, y_pred))\n",
    "print(\"Score of test: \"+ str(regressor.score(X_test,y_test)))"
   ]
  },
  {
   "cell_type": "code",
   "execution_count": null,
   "id": "e2d8588b",
   "metadata": {},
   "outputs": [],
   "source": []
  }
 ],
 "metadata": {
  "kernelspec": {
   "display_name": "Python 3 (ipykernel)",
   "language": "python",
   "name": "python3"
  },
  "language_info": {
   "codemirror_mode": {
    "name": "ipython",
    "version": 3
   },
   "file_extension": ".py",
   "mimetype": "text/x-python",
   "name": "python",
   "nbconvert_exporter": "python",
   "pygments_lexer": "ipython3",
   "version": "3.8.8"
  }
 },
 "nbformat": 4,
 "nbformat_minor": 5
}
